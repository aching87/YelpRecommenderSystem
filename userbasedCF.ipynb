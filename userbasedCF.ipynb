{
 "cells": [
  {
   "cell_type": "markdown",
   "metadata": {},
   "source": [
    "# User-based Collaborative Filtering Restaurant Recommender\n",
    "### Linsten Han, Pui Ling (Amy) Ching\n",
    "### CSC 478 Final Project "
   ]
  },
  {
   "cell_type": "code",
   "execution_count": 1,
   "metadata": {
    "collapsed": false
   },
   "outputs": [
    {
     "name": "stdout",
     "output_type": "stream",
     "text": [
      "C:\\Users\\lhan3\\Downloads\n"
     ]
    }
   ],
   "source": [
    "cd C:\\Users\\lhan3\\Downloads"
   ]
  },
  {
   "cell_type": "markdown",
   "metadata": {},
   "source": [
    "#Preprocessing"
   ]
  },
  {
   "cell_type": "code",
   "execution_count": 2,
   "metadata": {
    "collapsed": true
   },
   "outputs": [],
   "source": [
    "import pandas as pd\n",
    "import numpy as np"
   ]
  },
  {
   "cell_type": "code",
   "execution_count": 3,
   "metadata": {
    "collapsed": true
   },
   "outputs": [],
   "source": [
    "import scipy.sparse as sp"
   ]
  },
  {
   "cell_type": "code",
   "execution_count": 4,
   "metadata": {
    "collapsed": false
   },
   "outputs": [],
   "source": [
    "# Upload the Yelp Phoenix Review dataset\n",
    "phxreview =pd.read_csv(\"phxReview.csv\", delimiter=',',index_col=0)"
   ]
  },
  {
   "cell_type": "code",
   "execution_count": 5,
   "metadata": {
    "collapsed": false
   },
   "outputs": [
    {
     "name": "stdout",
     "output_type": "stream",
     "text": [
      "User Database shape is: (45277, 24)\n",
      "Business Database shape is: (2244, 59)\n"
     ]
    }
   ],
   "source": [
    "# Upload the Yelp Phoenix User dataset\n",
    "uDB=pd.read_csv(\"phxUser.csv\", delimiter=',')\n",
    "print \"User Database shape is:\",uDB.shape\n",
    "# Upload the Yelp Phoenix Business dataset\n",
    "busDB=pd.read_csv(\"phxB.csv\", delimiter=',')\n",
    "print \"Business Database shape is:\",busDB.shape"
   ]
  },
  {
   "cell_type": "code",
   "execution_count": 6,
   "metadata": {
    "collapsed": false
   },
   "outputs": [],
   "source": [
    "# Create np arrays for the user_id and business_id columns in the Review dataset\n",
    "phxuser=np.array(phxreview[\"user_id\"])\n",
    "phxbusiness=np.array(phxreview['business_id'])"
   ]
  },
  {
   "cell_type": "code",
   "execution_count": 7,
   "metadata": {
    "collapsed": true
   },
   "outputs": [],
   "source": [
    "# Extract stars column for values in sparse matrix \n",
    "stars=phxreview['stars']"
   ]
  },
  {
   "cell_type": "code",
   "execution_count": 8,
   "metadata": {
    "collapsed": false
   },
   "outputs": [],
   "source": [
    "# create key, value pairs for user_ids where key=user_id  and value=index\n",
    "# create key, value pairs for business_ids where key=business_id  and value=index \n",
    "users = np.unique(phxreview['user_id'])\n",
    "businesses = np.unique(phxreview['business_id'])\n",
    " \n",
    "number_of_rows = len(users)\n",
    "number_of_columns = len(businesses)\n",
    "\n",
    "business_indices, user_indices = {}, {}"
   ]
  },
  {
   "cell_type": "code",
   "execution_count": 9,
   "metadata": {
    "collapsed": true
   },
   "outputs": [],
   "source": [
    "for i in range(len(businesses)):\n",
    "    business_indices[businesses[i]] = i\n",
    "    \n",
    "for i in range(len(users)):\n",
    "    user_indices[users[i]] = i"
   ]
  },
  {
   "cell_type": "code",
   "execution_count": 10,
   "metadata": {
    "collapsed": true
   },
   "outputs": [],
   "source": [
    "# create a matrix to fill in the sparse data\n",
    "V = sp.lil_matrix((45277, 2043))"
   ]
  },
  {
   "cell_type": "code",
   "execution_count": 11,
   "metadata": {
    "collapsed": false
   },
   "outputs": [],
   "source": [
    "# adds the stars data into the sparse matrix\n",
    "for line in phxreview.values:\n",
    "    business, date, review_id, stars, user = map(str, line)\n",
    "    V[user_indices[user], business_indices[business]] = stars"
   ]
  },
  {
   "cell_type": "code",
   "execution_count": 12,
   "metadata": {
    "collapsed": true
   },
   "outputs": [],
   "source": [
    "# make our sparse matrix a dense one. \n",
    "newV = V.todense()"
   ]
  },
  {
   "cell_type": "code",
   "execution_count": 13,
   "metadata": {
    "collapsed": false
   },
   "outputs": [
    {
     "data": {
      "text/plain": [
       "(45277L, 2043L)"
      ]
     },
     "execution_count": 13,
     "metadata": {},
     "output_type": "execute_result"
    }
   ],
   "source": [
    "newV.shape"
   ]
  },
  {
   "cell_type": "code",
   "execution_count": 14,
   "metadata": {
    "collapsed": true
   },
   "outputs": [],
   "source": [
    "newVarray=np.array(newV)"
   ]
  },
  {
   "cell_type": "code",
   "execution_count": 15,
   "metadata": {
    "collapsed": true
   },
   "outputs": [],
   "source": [
    "np.set_printoptions(threshold='nan')"
   ]
  },
  {
   "cell_type": "code",
   "execution_count": 16,
   "metadata": {
    "collapsed": true
   },
   "outputs": [],
   "source": [
    "def pearsSim(inA,inB):\n",
    "    if len(inA) < 3 : return 1.0\n",
    "    return 0.5 + 0.5 * np.corrcoef(inA, inB, rowvar = 0)[0][1]"
   ]
  },
  {
   "cell_type": "code",
   "execution_count": 17,
   "metadata": {
    "collapsed": true
   },
   "outputs": [],
   "source": [
    "from scipy import spatial"
   ]
  },
  {
   "cell_type": "code",
   "execution_count": 18,
   "metadata": {
    "collapsed": true
   },
   "outputs": [],
   "source": [
    "from scipy.stats.stats import pearsonr"
   ]
  },
  {
   "cell_type": "markdown",
   "metadata": {},
   "source": [
    "# Functions \n",
    "## Predicting User Ratings"
   ]
  },
  {
   "cell_type": "code",
   "execution_count": 19,
   "metadata": {
    "collapsed": true
   },
   "outputs": [],
   "source": [
    "def userpred1(u,b):\n",
    "    '''This function predicts user u\"s rating for business b using user-based collaborative filtering. Predictions are made\n",
    "    using the average user u\"s rating + weighted average for all neighbors'similarity (formula in slide 13 of Recommender PPT)'''\n",
    "    uavg=newVarray[u][np.nonzero(newVarray[u])].mean()\n",
    "    totalR =0 \n",
    "    totalsim =0\n",
    "    for x in range(len(newVarray)):# iterate over all users\n",
    "        if newVarray[x][b]>0: #if that user's rating for b >0\n",
    "            #print 'n_idx', x\n",
    "            navg=newVarray[x][np.nonzero(newVarray[x])].mean()# average rating for neighbor\n",
    "            #print 'navg',navg\n",
    "            nbrating= newVarray[x][b] # neighbor's rating for b\n",
    "            #print 'nbrating',nbrating\n",
    "            uxsim,pvalue=pearsonr(newVarray[u],newVarray[x])# cosine similarity between u and neighbor \n",
    "            #print 'uxsim',(uxsim)\n",
    "            totalR+=(nbrating-navg)*(uxsim)\n",
    "            totalsim+=(uxsim)\n",
    "            #print 'totalR:',totalR,'totalsim:',totalsim \n",
    "    final = uavg + totalR/totalsim\n",
    "    return final"
   ]
  },
  {
   "cell_type": "code",
   "execution_count": 20,
   "metadata": {
    "collapsed": false
   },
   "outputs": [
    {
     "name": "stdout",
     "output_type": "stream",
     "text": [
      "Rating prediction for user0 for restaurant 7: 3.7017088815\n",
      "Rating prediction for user1 for restaurant 130: 2.4968480621\n",
      "Rating prediction for user199 for restaurant 6: 3.80271312997\n",
      "Rating prediction for user250 for restaurant 6: 3.54881879171\n",
      "Rating prediction for user7 for restaurant 173: 2.54685973377\n"
     ]
    }
   ],
   "source": [
    "# test userpred1 function\n",
    "print 'Rating prediction for user0 for restaurant 7:',userpred1(0,7)\n",
    "print 'Rating prediction for user1 for restaurant 130:',userpred1(1,30)\n",
    "print 'Rating prediction for user199 for restaurant 6:',userpred1(199,6)\n",
    "print 'Rating prediction for user250 for restaurant 6:',userpred1(250,6)\n",
    "print 'Rating prediction for user7 for restaurant 173:',userpred1(70,173)"
   ]
  },
  {
   "cell_type": "markdown",
   "metadata": {},
   "source": [
    "# Functions \n",
    "## Recommend Restaurants"
   ]
  },
  {
   "cell_type": "code",
   "execution_count": 21,
   "metadata": {
    "collapsed": false
   },
   "outputs": [],
   "source": [
    "''' this function recommends k number of business's for user, using the k highest predictions generated from the userpred1 function.'''\n",
    "def userrecom(user, k):\n",
    "    nbus=newVarray.shape[1]\n",
    "    zerorating =[]\n",
    "    for nb in range(nbus):\n",
    "        if newVarray[user,nb]==0:\n",
    "            zerorating.append(nb)\n",
    "    ratings=[]\n",
    "    for i in zerorating:\n",
    "        z=userpred1(user, i)\n",
    "        ratings.append(z)\n",
    "    businessratings=np.column_stack((zerorating, ratings))\n",
    "    sortedBratings = businessratings[np.argsort(businessratings[:,1])][::-1]\n",
    "    for j in range(k):\n",
    "        bindex=sortedBratings[j][0]\n",
    "        key=business_indices.keys()[business_indices.values().index(bindex)]\n",
    "        name = np.array(busDB[busDB[\"business_id\"]==key].name)\n",
    "        if sortedBratings[j][1]>5:\n",
    "            sortedBratings[j][1]=5\n",
    "        print name"
   ]
  },
  {
   "cell_type": "code",
   "execution_count": 22,
   "metadata": {
    "collapsed": false
   },
   "outputs": [],
   "source": [
    "import timeit"
   ]
  },
  {
   "cell_type": "code",
   "execution_count": 23,
   "metadata": {
    "collapsed": false
   },
   "outputs": [
    {
     "name": "stdout",
     "output_type": "stream",
     "text": [
      "['Grinders Coffee Company' 'Grinders Coffee Company']\n",
      "[\"Lin's Grand Buffet\"]\n",
      "['Breakfast Club']\n",
      "[\"Rico's American Grill\"]\n",
      "[\"Gallagher's Sports Grill\" \"Gallagher's Sports Grill\"]\n"
     ]
    }
   ],
   "source": [
    "# test userrecom function \n",
    "userrecom(0,5)"
   ]
  },
  {
   "cell_type": "code",
   "execution_count": 24,
   "metadata": {
    "collapsed": false
   },
   "outputs": [
    {
     "name": "stdout",
     "output_type": "stream",
     "text": [
      "[\"Bobby D's Restaurant & Lounge\" \"Bobby D's Restaurant & Lounge\"]\n",
      "[\"Rinaldi's Italian Deli\"]\n",
      "['Del Taco']\n",
      "['Hillside Spot']\n",
      "[\"Macayo's Mexican Kitchen\"]\n"
     ]
    }
   ],
   "source": [
    "userrecom(139,5)"
   ]
  },
  {
   "cell_type": "code",
   "execution_count": 25,
   "metadata": {
    "collapsed": false
   },
   "outputs": [
    {
     "name": "stdout",
     "output_type": "stream",
     "text": [
      "[\"Ingo's Tasty Food\"]\n",
      "['Chicago Hamburger Co']\n",
      "[\"Barro's Pizza\"]\n"
     ]
    }
   ],
   "source": [
    "userrecom(10,3)"
   ]
  },
  {
   "cell_type": "markdown",
   "metadata": {},
   "source": [
    "# Evaluation \n",
    "## Timing\n"
   ]
  },
  {
   "cell_type": "code",
   "execution_count": 26,
   "metadata": {
    "collapsed": false
   },
   "outputs": [
    {
     "name": "stdout",
     "output_type": "stream",
     "text": [
      "['Grinders Coffee Company' 'Grinders Coffee Company']\n",
      "[\"Lin's Grand Buffet\"]\n",
      "['Breakfast Club']\n",
      "[\"Rico's American Grill\"]\n",
      "[\"Gallagher's Sports Grill\" \"Gallagher's Sports Grill\"]\n",
      "['Grinders Coffee Company' 'Grinders Coffee Company']\n",
      "[\"Lin's Grand Buffet\"]\n",
      "['Breakfast Club']\n",
      "[\"Rico's American Grill\"]\n",
      "[\"Gallagher's Sports Grill\" \"Gallagher's Sports Grill\"]\n",
      "['Grinders Coffee Company' 'Grinders Coffee Company']\n",
      "[\"Lin's Grand Buffet\"]\n",
      "['Breakfast Club']\n",
      "[\"Rico's American Grill\"]\n",
      "[\"Gallagher's Sports Grill\" \"Gallagher's Sports Grill\"]\n",
      "['Grinders Coffee Company' 'Grinders Coffee Company']\n",
      "[\"Lin's Grand Buffet\"]\n",
      "['Breakfast Club']\n",
      "[\"Rico's American Grill\"]\n",
      "[\"Gallagher's Sports Grill\" \"Gallagher's Sports Grill\"]\n",
      "1 loops, best of 3: 55.1 s per loop\n"
     ]
    }
   ],
   "source": [
    "%timeit userrecom(0,5)"
   ]
  },
  {
   "cell_type": "code",
   "execution_count": 27,
   "metadata": {
    "collapsed": false
   },
   "outputs": [
    {
     "name": "stdout",
     "output_type": "stream",
     "text": [
      "[\"Bobby D's Restaurant & Lounge\" \"Bobby D's Restaurant & Lounge\"]\n",
      "[\"Rinaldi's Italian Deli\"]\n",
      "['Del Taco']\n",
      "['Hillside Spot']\n",
      "[\"Macayo's Mexican Kitchen\"]\n",
      "[\"Bobby D's Restaurant & Lounge\" \"Bobby D's Restaurant & Lounge\"]\n",
      "[\"Rinaldi's Italian Deli\"]\n",
      "['Del Taco']\n",
      "['Hillside Spot']\n",
      "[\"Macayo's Mexican Kitchen\"]\n",
      "[\"Bobby D's Restaurant & Lounge\" \"Bobby D's Restaurant & Lounge\"]\n",
      "[\"Rinaldi's Italian Deli\"]\n",
      "['Del Taco']\n",
      "['Hillside Spot']\n",
      "[\"Macayo's Mexican Kitchen\"]\n",
      "[\"Bobby D's Restaurant & Lounge\" \"Bobby D's Restaurant & Lounge\"]\n",
      "[\"Rinaldi's Italian Deli\"]\n",
      "['Del Taco']\n",
      "['Hillside Spot']\n",
      "[\"Macayo's Mexican Kitchen\"]\n",
      "1 loops, best of 3: 54 s per loop\n"
     ]
    }
   ],
   "source": [
    "%timeit userrecom(139,5)"
   ]
  },
  {
   "cell_type": "markdown",
   "metadata": {},
   "source": [
    "# Evaluation \n",
    "## Validating users"
   ]
  },
  {
   "cell_type": "code",
   "execution_count": 28,
   "metadata": {
    "collapsed": true
   },
   "outputs": [],
   "source": [
    "def twenty_validate_user(dataMat, user, test_ratio, estMethod=userpred1, simMeas=pearsSim):\n",
    "    '''This function tests error of userpred1 for a ratio of the user\"s ratings'''\n",
    "    number_of_items = np.shape(dataMat)[1]\n",
    "    rated_items_by_user = np.array([i for i in range(number_of_items) if dataMat[user,i]>0]) # nonzero ratings for that user\n",
    "    test_size = math.ceil(test_ratio * len(rated_items_by_user)) # size of portion of nonzero ratings for that user. Ceiling rounds up.\n",
    "    '''Note: We are using ceiling because some users only have 1 rating. These users will have \"test\" size =1 and this \n",
    "    function will return the error for that 1 rating. '''\n",
    "    test_indices = np.random.randint(0, len(rated_items_by_user), test_size)\n",
    "    withheld_items = rated_items_by_user[test_indices] # testing set\n",
    "    original_user_profile = np.copy(dataMat[user]) \n",
    "    \n",
    "    if len(withheld_items)==1:\n",
    "        error_u = estMethod(user, withheld_items) - original_user_profile[withheld_items]\n",
    "        count_u = 1\n",
    "        MAE = error_u\n",
    "    else:\n",
    "        dataMat[user, withheld_items] = 0 # So that the withheld test items is not used in the rating estimation below\n",
    "        error_u = 0.0\n",
    "        count_u = len(withheld_items) # size of testing set \n",
    "        #print \"withheld\", withheld_items\n",
    "        \n",
    "    # Compute absolute error for user u over all test items\n",
    "        for item in withheld_items:\n",
    "            # Estimate rating on the withheld item\n",
    "            estimatedScore = estMethod(user,item)\n",
    "            error_u = error_u + abs(estimatedScore - original_user_profile[item])\n",
    "            #print \"original\", original_user_profile[item]\n",
    "            #print item\n",
    "            #print \"estScore\", estimatedScore\n",
    "            #print \"current error\", error_u\n",
    "        MAE=error_u/len(withheld_items)\n",
    "\n",
    "    # Now restore ratings of the withheld items to the user profile\n",
    "        for item in withheld_items:\n",
    "            dataMat[user, item] = original_user_profile[item]\n",
    "\n",
    "    # Return sum of absolute errors, count of test cases, and MAE for this user\n",
    "    # these will have to be accumulated for each user to compute the MAE in the test function that follows \n",
    "    return error_u, count_u, MAE"
   ]
  },
  {
   "cell_type": "code",
   "execution_count": 29,
   "metadata": {
    "collapsed": false
   },
   "outputs": [
    {
     "ename": "NameError",
     "evalue": "global name 'math' is not defined",
     "output_type": "error",
     "traceback": [
      "\u001b[1;31m---------------------------------------------------------------------------\u001b[0m",
      "\u001b[1;31mNameError\u001b[0m                                 Traceback (most recent call last)",
      "\u001b[1;32m<ipython-input-29-a8b5d4e0ed21>\u001b[0m in \u001b[0;36m<module>\u001b[1;34m()\u001b[0m\n\u001b[1;32m----> 1\u001b[1;33m \u001b[0merror_u\u001b[0m\u001b[1;33m,\u001b[0m \u001b[0mcount_u\u001b[0m\u001b[1;33m,\u001b[0m \u001b[0mMAE\u001b[0m \u001b[1;33m=\u001b[0m \u001b[0mtwenty_validate_user\u001b[0m\u001b[1;33m(\u001b[0m\u001b[0mnewVarray\u001b[0m\u001b[1;33m,\u001b[0m \u001b[1;36m0\u001b[0m\u001b[1;33m,\u001b[0m \u001b[1;36m0.2\u001b[0m\u001b[1;33m,\u001b[0m \u001b[0mestMethod\u001b[0m\u001b[1;33m=\u001b[0m\u001b[0muserpred1\u001b[0m\u001b[1;33m,\u001b[0m \u001b[0msimMeas\u001b[0m\u001b[1;33m=\u001b[0m\u001b[0mpearsSim\u001b[0m\u001b[1;33m)\u001b[0m\u001b[1;33m\u001b[0m\u001b[0m\n\u001b[0m\u001b[0;32m      2\u001b[0m \u001b[1;32mprint\u001b[0m \u001b[1;34m\"Validate User 0: total User0 error is\"\u001b[0m\u001b[1;33m,\u001b[0m \u001b[0merror_u\u001b[0m\u001b[1;33m,\u001b[0m \u001b[1;34m', total rating count is:'\u001b[0m\u001b[1;33m,\u001b[0m \u001b[0mcount_u\u001b[0m\u001b[1;33m,\u001b[0m \u001b[1;34m\", MAE :\"\u001b[0m\u001b[1;33m,\u001b[0m \u001b[0mMAE\u001b[0m\u001b[1;33m\u001b[0m\u001b[0m\n\u001b[0;32m      3\u001b[0m \u001b[0merror_u\u001b[0m\u001b[1;33m,\u001b[0m \u001b[0mcount_u\u001b[0m\u001b[1;33m,\u001b[0m \u001b[0mMAE\u001b[0m \u001b[1;33m=\u001b[0m \u001b[0mtwenty_validate_user\u001b[0m\u001b[1;33m(\u001b[0m\u001b[0mnewVarray\u001b[0m\u001b[1;33m,\u001b[0m \u001b[1;36m1\u001b[0m\u001b[1;33m,\u001b[0m \u001b[1;36m0.2\u001b[0m\u001b[1;33m,\u001b[0m \u001b[0mestMethod\u001b[0m\u001b[1;33m=\u001b[0m\u001b[0muserpred1\u001b[0m\u001b[1;33m)\u001b[0m\u001b[1;33m\u001b[0m\u001b[0m\n\u001b[0;32m      4\u001b[0m \u001b[1;32mprint\u001b[0m \u001b[1;34m\"Validate User 1: total User 1 error is\"\u001b[0m\u001b[1;33m,\u001b[0m \u001b[0merror_u\u001b[0m\u001b[1;33m,\u001b[0m \u001b[1;34m', total rating count is:'\u001b[0m\u001b[1;33m,\u001b[0m \u001b[0mcount_u\u001b[0m\u001b[1;33m,\u001b[0m \u001b[1;34m\", MAE :\"\u001b[0m\u001b[1;33m,\u001b[0m \u001b[0mMAE\u001b[0m\u001b[1;33m\u001b[0m\u001b[0m\n\u001b[0;32m      5\u001b[0m \u001b[0merror_u\u001b[0m\u001b[1;33m,\u001b[0m \u001b[0mcount_u\u001b[0m\u001b[1;33m,\u001b[0m \u001b[0mMAE\u001b[0m\u001b[1;33m=\u001b[0m\u001b[0mtwenty_validate_user\u001b[0m\u001b[1;33m(\u001b[0m\u001b[0mnewVarray\u001b[0m\u001b[1;33m,\u001b[0m \u001b[1;36m31\u001b[0m\u001b[1;33m,\u001b[0m \u001b[1;36m0.2\u001b[0m\u001b[1;33m,\u001b[0m \u001b[0mestMethod\u001b[0m\u001b[1;33m=\u001b[0m\u001b[0muserpred1\u001b[0m\u001b[1;33m)\u001b[0m\u001b[1;33m\u001b[0m\u001b[0m\n",
      "\u001b[1;32m<ipython-input-28-6626ec442bcf>\u001b[0m in \u001b[0;36mtwenty_validate_user\u001b[1;34m(dataMat, user, test_ratio, estMethod, simMeas)\u001b[0m\n\u001b[0;32m      3\u001b[0m     \u001b[0mnumber_of_items\u001b[0m \u001b[1;33m=\u001b[0m \u001b[0mnp\u001b[0m\u001b[1;33m.\u001b[0m\u001b[0mshape\u001b[0m\u001b[1;33m(\u001b[0m\u001b[0mdataMat\u001b[0m\u001b[1;33m)\u001b[0m\u001b[1;33m[\u001b[0m\u001b[1;36m1\u001b[0m\u001b[1;33m]\u001b[0m\u001b[1;33m\u001b[0m\u001b[0m\n\u001b[0;32m      4\u001b[0m     \u001b[0mrated_items_by_user\u001b[0m \u001b[1;33m=\u001b[0m \u001b[0mnp\u001b[0m\u001b[1;33m.\u001b[0m\u001b[0marray\u001b[0m\u001b[1;33m(\u001b[0m\u001b[1;33m[\u001b[0m\u001b[0mi\u001b[0m \u001b[1;32mfor\u001b[0m \u001b[0mi\u001b[0m \u001b[1;32min\u001b[0m \u001b[0mrange\u001b[0m\u001b[1;33m(\u001b[0m\u001b[0mnumber_of_items\u001b[0m\u001b[1;33m)\u001b[0m \u001b[1;32mif\u001b[0m \u001b[0mdataMat\u001b[0m\u001b[1;33m[\u001b[0m\u001b[0muser\u001b[0m\u001b[1;33m,\u001b[0m\u001b[0mi\u001b[0m\u001b[1;33m]\u001b[0m\u001b[1;33m>\u001b[0m\u001b[1;36m0\u001b[0m\u001b[1;33m]\u001b[0m\u001b[1;33m)\u001b[0m \u001b[1;31m# nonzero ratings for that user\u001b[0m\u001b[1;33m\u001b[0m\u001b[0m\n\u001b[1;32m----> 5\u001b[1;33m     \u001b[0mtest_size\u001b[0m \u001b[1;33m=\u001b[0m \u001b[0mmath\u001b[0m\u001b[1;33m.\u001b[0m\u001b[0mceil\u001b[0m\u001b[1;33m(\u001b[0m\u001b[0mtest_ratio\u001b[0m \u001b[1;33m*\u001b[0m \u001b[0mlen\u001b[0m\u001b[1;33m(\u001b[0m\u001b[0mrated_items_by_user\u001b[0m\u001b[1;33m)\u001b[0m\u001b[1;33m)\u001b[0m \u001b[1;31m# size of portion of nonzero ratings for that user. Ceiling rounds up.\u001b[0m\u001b[1;33m\u001b[0m\u001b[0m\n\u001b[0m\u001b[0;32m      6\u001b[0m     '''Note: We are using ceiling because some users only have 1 rating. These users will have \"test\" size =1 and this \n\u001b[0;32m      7\u001b[0m     function will return the error for that 1 rating. '''\n",
      "\u001b[1;31mNameError\u001b[0m: global name 'math' is not defined"
     ]
    }
   ],
   "source": [
    "error_u, count_u, MAE = twenty_validate_user(newVarray, 0, 0.2, estMethod=userpred1, simMeas=pearsSim)\n",
    "print \"Validate User 0: total User0 error is\", error_u, ', total rating count is:', count_u, \", MAE :\", MAE\n",
    "error_u, count_u, MAE = twenty_validate_user(newVarray, 1, 0.2, estMethod=userpred1)\n",
    "print \"Validate User 1: total User 1 error is\", error_u, ', total rating count is:', count_u, \", MAE :\", MAE\n",
    "error_u, count_u, MAE=twenty_validate_user(newVarray, 31, 0.2, estMethod=userpred1)\n",
    "print \"Validate User 31: total User 31 error is\", error_u, ', total rating count is:', count_u, \", MAE :\", MAE\n",
    "error_u, count_u, MAE=twenty_validate_user(newVarray, 109, 0.2, estMethod=userpred1)\n",
    "print \"Validate User 109: total User 109 error is\", error_u, ', total rating count is:', count_u, \", MAE :\", MAE\n",
    "error_u, count_u, MAE=twenty_validate_user(newVarray, 72, 0.2, estMethod=userpred1)\n",
    "print \"Validate User 72: total User 72 error is\", error_u, ', total rating count is:', count_u, \", MAE :\", MAE"
   ]
  },
  {
   "cell_type": "markdown",
   "metadata": {},
   "source": [
    "#Evaluation\n",
    "##Test"
   ]
  },
  {
   "cell_type": "code",
   "execution_count": 104,
   "metadata": {
    "collapsed": true
   },
   "outputs": [],
   "source": [
    "import math as math"
   ]
  },
  {
   "cell_type": "code",
   "execution_count": 135,
   "metadata": {
    "collapsed": false
   },
   "outputs": [],
   "source": [
    "def test(dataMat, test_ratio, estMethod=userpred1):\n",
    "    '''This function gives overall MAE for estMethod on all users.'''\n",
    "    totalerror=0 # sum of errors across all test cases for all users \n",
    "    totalcount=0 # total number of test cases for all users \n",
    "    for user in range(len(dataMat)): # iterate over all users\n",
    "        error, count, MAE = twenty_validate_user(dataMat, user, test_ratio, estMethod)\n",
    "        totalerror+=error # error is the sum of absolute errors for this user\n",
    "        totalcount+=count # count is the number of test cases for this user \n",
    "    TotMAE=totalerror/totalcount # the ratio of total error across all test cases to the total number of test cases, for all users\n",
    "    print 'Mean Absoloute Error for ',estMethod,' : ', TotMAE"
   ]
  },
  {
   "cell_type": "code",
   "execution_count": 136,
   "metadata": {
    "collapsed": false
   },
   "outputs": [
    {
     "name": "stdout",
     "output_type": "stream",
     "text": [
      "Mean Absoloute Error for  <function userpred1 at 0x0000000011AF9C18>  :  [ 0.38646296]\n"
     ]
    }
   ],
   "source": [
    "test(newVarray, 0.2, estMethod=userpred1)"
   ]
  },
  {
   "cell_type": "code",
   "execution_count": null,
   "metadata": {
    "collapsed": true
   },
   "outputs": [],
   "source": [
    "## took 2 hr to ran the test functions. "
   ]
  }
 ],
 "metadata": {
  "kernelspec": {
   "display_name": "Python 2",
   "language": "python",
   "name": "python2"
  },
  "language_info": {
   "codemirror_mode": {
    "name": "ipython",
    "version": 2
   },
   "file_extension": ".py",
   "mimetype": "text/x-python",
   "name": "python",
   "nbconvert_exporter": "python",
   "pygments_lexer": "ipython2",
   "version": "2.7.10"
  }
 },
 "nbformat": 4,
 "nbformat_minor": 0
}
